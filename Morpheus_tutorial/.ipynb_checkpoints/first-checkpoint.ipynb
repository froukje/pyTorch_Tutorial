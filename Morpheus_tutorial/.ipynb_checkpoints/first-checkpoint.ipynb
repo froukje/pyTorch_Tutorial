{
 "cells": [
  {
   "cell_type": "code",
   "execution_count": 31,
   "metadata": {},
   "outputs": [],
   "source": [
    "import torch\n",
    "import torch.nn as nn\n",
    "import torch.nn.functional as F\n",
    "from torch.autograd import Variable\n",
    "import torch.optim as optim"
   ]
  },
  {
   "cell_type": "code",
   "execution_count": 25,
   "metadata": {},
   "outputs": [],
   "source": [
    "# class, that represents the NN\n",
    "class MyNet(nn.Module):\n",
    "    def __init__(self): #constructor; defines the variables (every layer in the NN is a variable)\n",
    "        super(MyNet, self).__init__()\n",
    "        self.lin1 = nn.Linear(10, 10) #input and output size\n",
    "        self.lin2 = nn.Linear(10, 10)\n",
    "        \n",
    "    def forward(self, x): # forward pass\n",
    "        x = F.relu(self.lin1(x))\n",
    "        x = self.lin2(x)\n",
    "        return x\n",
    "        \n",
    "    def num_flat_features(self, x): # needed for output \n",
    "        size = x.size()[1:] # all, except batch dimension\n",
    "        num = 1 # nr of features\n",
    "        for i in size:\n",
    "            num *= i\n",
    "        return num"
   ]
  },
  {
   "cell_type": "code",
   "execution_count": 26,
   "metadata": {},
   "outputs": [
    {
     "name": "stdout",
     "output_type": "stream",
     "text": [
      "MyNet(\n",
      "  (lin1): Linear(in_features=10, out_features=10, bias=True)\n",
      "  (lin2): Linear(in_features=10, out_features=10, bias=True)\n",
      ")\n"
     ]
    }
   ],
   "source": [
    "net = MyNet()\n",
    "print(net)"
   ]
  },
  {
   "cell_type": "code",
   "execution_count": 34,
   "metadata": {},
   "outputs": [
    {
     "name": "stdout",
     "output_type": "stream",
     "text": [
      "tensor([[-0.0953,  0.0310, -0.3414,  0.2255, -0.5357, -0.2556,  0.5424,  0.0056,\n",
      "          0.2457, -0.5531],\n",
      "        [-0.1303, -0.2592, -0.7050,  0.7676, -1.4019, -0.8525,  0.3318, -0.0925,\n",
      "         -0.0121, -0.9924],\n",
      "        [-0.4865, -0.3434, -0.1900,  0.7913, -0.8993, -0.4385, -0.4298, -0.2544,\n",
      "         -0.0722, -0.4295],\n",
      "        [-0.3225,  0.1341, -0.0837,  0.0512, -0.4423,  0.0765,  0.2246, -0.0325,\n",
      "          0.0893, -0.3232],\n",
      "        [-0.2033, -0.0266, -0.3504,  0.3582, -0.7362, -0.3472,  0.1486,  0.1358,\n",
      "         -0.0470, -0.5291],\n",
      "        [-0.0611, -0.0551, -0.3542,  0.0688, -0.3632,  0.1996,  0.3712, -0.1398,\n",
      "          0.2753, -0.2931],\n",
      "        [-0.3441, -0.1812, -0.3026,  0.5540, -0.7241, -0.4063, -0.0322, -0.0613,\n",
      "          0.0435, -0.4748],\n",
      "        [-0.3330,  0.1128, -0.0573,  0.0811, -0.4279,  0.1224,  0.1976,  0.0231,\n",
      "          0.2038, -0.3973],\n",
      "        [-0.2205,  0.0959, -0.1799,  0.0345, -0.4230, -0.0170,  0.3110,  0.0676,\n",
      "          0.1487, -0.4348],\n",
      "        [-0.0711,  0.1122, -0.3291,  0.0158, -0.7210, -0.0661,  0.5825, -0.0584,\n",
      "          0.2987, -0.7151]], grad_fn=<AddmmBackward>)\n",
      "tensor(0.7617, grad_fn=<MseLossBackward>)\n",
      "<AddmmBackward object at 0x7fb1a7994bd0>\n"
     ]
    }
   ],
   "source": [
    "# main training loop\n",
    "#input = Variable(torch.randn(10, 10)) # input size 10, we have 10 inputs of size 10\n",
    "input = torch.randn(10, 10)\n",
    "out = net(input)\n",
    "print(out) # output size 10 for 10 batches\n",
    "\n",
    "x = [0,1,1,1,0,1,1,1,0,0]\n",
    "target = Variable(torch.tensor([x for _ in range(10)]))\n",
    "criterion = nn.MSELoss()\n",
    "loss = criterion(out, target)\n",
    "\n",
    "net.zero_grad()\n",
    "loss.backward()\n",
    "optimizer = optim.SGD(net.parameters(), lr=0.01)"
   ]
  },
  {
   "cell_type": "code",
   "execution_count": null,
   "metadata": {},
   "outputs": [],
   "source": []
  }
 ],
 "metadata": {
  "kernelspec": {
   "display_name": "Python 3",
   "language": "python",
   "name": "python3"
  },
  "language_info": {
   "codemirror_mode": {
    "name": "ipython",
    "version": 3
   },
   "file_extension": ".py",
   "mimetype": "text/x-python",
   "name": "python",
   "nbconvert_exporter": "python",
   "pygments_lexer": "ipython3",
   "version": "3.7.7"
  }
 },
 "nbformat": 4,
 "nbformat_minor": 4
}
