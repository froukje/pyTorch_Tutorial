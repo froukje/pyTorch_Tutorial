{
 "cells": [
  {
   "cell_type": "markdown",
   "metadata": {},
   "source": [
    "# Setup"
   ]
  },
  {
   "cell_type": "code",
   "execution_count": 32,
   "metadata": {},
   "outputs": [],
   "source": [
    "import torch\n",
    "import torchvision\n",
    "from torchvision import transforms\n",
    "from PIL import Image\n",
    "from os import listdir\n",
    "import random\n",
    "import torch.optim as optim\n",
    "from torch.autograd import Variable\n",
    "import torch.nn.functional as F\n",
    "import torch.nn as nn"
   ]
  },
  {
   "cell_type": "code",
   "execution_count": 33,
   "metadata": {},
   "outputs": [],
   "source": [
    "normalize = transforms.Normalize(\n",
    "            mean = [0.485, 0.456, 0.406],\n",
    "            std = [0.299, 0.244, 0.225])\n",
    "transform = transforms.Compose([\n",
    "    transforms.Resize(256), # all images to same size\n",
    "    transforms.CenterCrop(256), # cut to center\n",
    "    transforms.ToTensor(),\n",
    "    normalize\n",
    "])"
   ]
  },
  {
   "cell_type": "code",
   "execution_count": 34,
   "metadata": {},
   "outputs": [],
   "source": [
    "# OUTPUT target = [isCat, isDog]\n",
    "train_data_list = []\n",
    "train_data = []\n",
    "target_list = []\n",
    "files = listdir('../Data/CatDog/train/')\n",
    "for i in range(len(listdir('../Data/CatDog/train/'))):\n",
    "    f = random.choice(files)\n",
    "    files.remove(f)\n",
    "    img = Image.open(\"../Data/CatDog/train/\" + f)\n",
    "    img_tensor = transform(img) #(3,256,256)\n",
    "    train_data_list.append(img_tensor)\n",
    "    isCat = 1 if \"cat\" in f else 0\n",
    "    isDog = 1 if \"dog\" in f else 0\n",
    "    target = [isCat, isDog]\n",
    "    target_list.append(target)\n",
    "    if(len(train_data_list)>=64): # batch_size \n",
    "        train_data.append((torch.stack(train_data_list),target_list)) # Concatenates sequence of tensors along a new dimension\n",
    "        train_data_list = []\n",
    "        break\n",
    "#print(train_data)"
   ]
  },
  {
   "cell_type": "code",
   "execution_count": 35,
   "metadata": {},
   "outputs": [],
   "source": [
    "class Net(nn.Module):\n",
    "    def __init__(self):\n",
    "        super(Net, self).__init__()\n",
    "        self.conv1 = nn.Conv2d(3, 6, kernel_size=5)\n",
    "        self.conv2 = nn.Conv2d(6, 12, kernel_size=5)\n",
    "        self.conv3 = nn.Conv2d(12, 18, kernel_size=5)\n",
    "        self.conv4 = nn.Conv2d(18, 24, kernel_size=5)\n",
    "        self.fc1 = nn.Linear(3456, 1000) # 18*28*28 from x.size()\n",
    "        self.fc2 = nn.Linear(1000, 2)\n",
    "        \n",
    "    def forward(self, x):\n",
    "        x = self.conv1(x)\n",
    "        x = F.max_pool2d(x,2)\n",
    "        x = F.relu(x)\n",
    "        x = self.conv2(x)\n",
    "        x = F.max_pool2d(x,2)\n",
    "        x = F.relu(x)\n",
    "        x = self.conv3(x)\n",
    "        x = F.max_pool2d(x,2)\n",
    "        x = F.relu(x)\n",
    "        x = self.conv4(x)\n",
    "        x = F.max_pool2d(x,2)\n",
    "        x = F.relu(x)\n",
    "        #print(x.size())\n",
    "        #exit\n",
    "        x = x.view(-1, 3456)\n",
    "        x = F.relu(self.fc1(x))\n",
    "        x = self.fc2(x)\n",
    "        return F.sigmoid(x)\n",
    "        \n",
    "model = Net()\n",
    "#model.cuda()"
   ]
  },
  {
   "cell_type": "code",
   "execution_count": 37,
   "metadata": {},
   "outputs": [
    {
     "name": "stderr",
     "output_type": "stream",
     "text": [
      "/home/frauke/anaconda3/envs/pytorch_base/lib/python3.7/site-packages/torch/nn/functional.py:1351: UserWarning: nn.functional.sigmoid is deprecated. Use torch.sigmoid instead.\n",
      "  warnings.warn(\"nn.functional.sigmoid is deprecated. Use torch.sigmoid instead.\")\n"
     ]
    },
    {
     "name": "stdout",
     "output_type": "stream",
     "text": [
      "Epoch: 1, Loss: 0.6859961152076721\n",
      "Epoch: 2, Loss: 0.685360312461853\n",
      "Epoch: 3, Loss: 0.6854314804077148\n",
      "Epoch: 4, Loss: 0.6856026649475098\n",
      "Epoch: 5, Loss: 0.6855224370956421\n",
      "Epoch: 6, Loss: 0.6853833198547363\n",
      "Epoch: 7, Loss: 0.6853169202804565\n",
      "Epoch: 8, Loss: 0.6853330731391907\n",
      "Epoch: 9, Loss: 0.685381293296814\n",
      "Epoch: 10, Loss: 0.6854090094566345\n",
      "Epoch: 11, Loss: 0.6853988170623779\n",
      "Epoch: 12, Loss: 0.6853659152984619\n",
      "Epoch: 13, Loss: 0.6853322386741638\n",
      "Epoch: 14, Loss: 0.6853154301643372\n",
      "Epoch: 15, Loss: 0.6853206157684326\n",
      "Epoch: 16, Loss: 0.6853371262550354\n",
      "Epoch: 17, Loss: 0.6853516101837158\n",
      "Epoch: 18, Loss: 0.6853561401367188\n",
      "Epoch: 19, Loss: 0.6853481531143188\n",
      "Epoch: 20, Loss: 0.6853337287902832\n",
      "Epoch: 21, Loss: 0.6853207349777222\n",
      "Epoch: 22, Loss: 0.6853151321411133\n",
      "Epoch: 23, Loss: 0.6853176951408386\n",
      "Epoch: 24, Loss: 0.6853253841400146\n",
      "Epoch: 25, Loss: 0.6853305697441101\n",
      "Epoch: 26, Loss: 0.6853317022323608\n",
      "Epoch: 27, Loss: 0.6853275299072266\n",
      "Epoch: 28, Loss: 0.6853201985359192\n",
      "Epoch: 29, Loss: 0.6853156089782715\n",
      "torch.return_types.max(\n",
      "values=tensor([[0.5617]]),\n",
      "indices=tensor([[1]]))\n",
      "\n"
     ]
    }
   ],
   "source": [
    "optimizer = optim.Adam(model.parameters(), lr=0.01)\n",
    "def train(epoch):\n",
    "    model.train()\n",
    "    batch_id = 0\n",
    "    for data, target in train_data:\n",
    "        #data = data.cuda()\n",
    "        target = torch.Tensor(target)\n",
    "        #target = target.cuda()\n",
    "        data = Variable(data)\n",
    "        target = Variable(target)\n",
    "        optimizer.zero_grad()\n",
    "        out = model(data)\n",
    "        criterion = F.binary_cross_entropy\n",
    "        loss = criterion(out, target)\n",
    "        loss.backward()\n",
    "        optimizer.step()\n",
    "        batch_id += 1\n",
    "        print(f'Epoch: {epoch}, Loss: {loss}')\n",
    "        \n",
    "def test():\n",
    "    model.eval()\n",
    "    files = listdir('../Data/CatDog/test/')\n",
    "    f = random.choice(files)\n",
    "    img = Image.open('../Data/CatDog/test/' + f)\n",
    "    img_test_tensor = transform(img)\n",
    "    img_test_tensor.unsqueeze_(0)\n",
    "    data = Variable(img_test_tensor) # Variable(img_test_tensor.cuda())\n",
    "    out = model(data)\n",
    "    print(out.data.max(1, keepdims=True))\n",
    "    img.show()\n",
    "    x = input('')\n",
    "        \n",
    "for epoch in range(1,30):\n",
    "    train(epoch)\n",
    "test()"
   ]
  },
  {
   "cell_type": "code",
   "execution_count": null,
   "metadata": {},
   "outputs": [],
   "source": []
  }
 ],
 "metadata": {
  "kernelspec": {
   "display_name": "Python 3",
   "language": "python",
   "name": "python3"
  },
  "language_info": {
   "codemirror_mode": {
    "name": "ipython",
    "version": 3
   },
   "file_extension": ".py",
   "mimetype": "text/x-python",
   "name": "python",
   "nbconvert_exporter": "python",
   "pygments_lexer": "ipython3",
   "version": "3.7.7"
  }
 },
 "nbformat": 4,
 "nbformat_minor": 4
}
